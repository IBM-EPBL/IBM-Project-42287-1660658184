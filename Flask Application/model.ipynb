{
  "cells": [
    {
      "cell_type": "markdown",
      "metadata": {
        "id": "XQfuGgCPsZlW"
      },
      "source": []
    },
    {
      "cell_type": "code",
      "execution_count": 1,
      "metadata": {
        "colab": {
          "base_uri": "https://localhost:8080/"
        },
        "id": "-1KtdysmsbN-",
        "outputId": "9fcf0380-c67f-49de-fa0d-78c8faa7a843"
      },
      "outputs": [
        {
          "output_type": "stream",
          "name": "stdout",
          "text": [
            "Looking in indexes: https://pypi.org/simple, https://us-python.pkg.dev/colab-wheels/public/simple/\n",
            "Requirement already satisfied: pyngrok==4.1.1 in /usr/local/lib/python3.7/dist-packages (4.1.1)\n",
            "Requirement already satisfied: PyYAML in /usr/local/lib/python3.7/dist-packages (from pyngrok==4.1.1) (6.0)\n",
            "Requirement already satisfied: future in /usr/local/lib/python3.7/dist-packages (from pyngrok==4.1.1) (0.16.0)\n",
            "Looking in indexes: https://pypi.org/simple, https://us-python.pkg.dev/colab-wheels/public/simple/\n",
            "Requirement already satisfied: flask_ngrok in /usr/local/lib/python3.7/dist-packages (0.0.25)\n",
            "Requirement already satisfied: requests in /usr/local/lib/python3.7/dist-packages (from flask_ngrok) (2.23.0)\n",
            "Requirement already satisfied: Flask>=0.8 in /usr/local/lib/python3.7/dist-packages (from flask_ngrok) (1.1.4)\n",
            "Requirement already satisfied: itsdangerous<2.0,>=0.24 in /usr/local/lib/python3.7/dist-packages (from Flask>=0.8->flask_ngrok) (1.1.0)\n",
            "Requirement already satisfied: Jinja2<3.0,>=2.10.1 in /usr/local/lib/python3.7/dist-packages (from Flask>=0.8->flask_ngrok) (2.11.3)\n",
            "Requirement already satisfied: Werkzeug<2.0,>=0.15 in /usr/local/lib/python3.7/dist-packages (from Flask>=0.8->flask_ngrok) (1.0.1)\n",
            "Requirement already satisfied: click<8.0,>=5.1 in /usr/local/lib/python3.7/dist-packages (from Flask>=0.8->flask_ngrok) (7.1.2)\n",
            "Requirement already satisfied: MarkupSafe>=0.23 in /usr/local/lib/python3.7/dist-packages (from Jinja2<3.0,>=2.10.1->Flask>=0.8->flask_ngrok) (2.0.1)\n",
            "Requirement already satisfied: certifi>=2017.4.17 in /usr/local/lib/python3.7/dist-packages (from requests->flask_ngrok) (2022.9.24)\n",
            "Requirement already satisfied: urllib3!=1.25.0,!=1.25.1,<1.26,>=1.21.1 in /usr/local/lib/python3.7/dist-packages (from requests->flask_ngrok) (1.24.3)\n",
            "Requirement already satisfied: chardet<4,>=3.0.2 in /usr/local/lib/python3.7/dist-packages (from requests->flask_ngrok) (3.0.4)\n",
            "Requirement already satisfied: idna<3,>=2.5 in /usr/local/lib/python3.7/dist-packages (from requests->flask_ngrok) (2.10)\n"
          ]
        }
      ],
      "source": [
        "!pip install pyngrok==4.1.1\n",
        "!pip install flask_ngrok"
      ]
    },
    {
      "cell_type": "markdown",
      "metadata": {
        "id": "BQqa0lz_tPwm"
      },
      "source": []
    },
    {
      "cell_type": "markdown",
      "metadata": {
        "id": "KUwM_oGrWNaE"
      },
      "source": [
        "# Importing the required libraries"
      ]
    },
    {
      "cell_type": "code",
      "execution_count": 2,
      "metadata": {
        "colab": {
          "base_uri": "https://localhost:8080/"
        },
        "id": "ky91ohgJMpIM",
        "outputId": "015b0a79-e906-4d90-ab3f-9205cd6a6fd8"
      },
      "outputs": [
        {
          "output_type": "stream",
          "name": "stdout",
          "text": [
            "Authtoken saved to configuration file: /root/.ngrok2/ngrok.yml\n"
          ]
        }
      ],
      "source": [
        "!ngrok authtoken 1oNmyh58ltbuhCn3zbnUHKStOeH_5z5G4ZHwqtjNMAE2TPkTp"
      ]
    },
    {
      "cell_type": "code",
      "execution_count": 3,
      "metadata": {
        "colab": {
          "base_uri": "https://localhost:8080/"
        },
        "id": "RfKfs11myp3E",
        "outputId": "c91ea80d-695c-413d-ff15-bbdb0ee02957"
      },
      "outputs": [
        {
          "output_type": "stream",
          "name": "stdout",
          "text": [
            "Drive already mounted at /content/drive; to attempt to forcibly remount, call drive.mount(\"/content/drive\", force_remount=True).\n"
          ]
        }
      ],
      "source": [
        "from google.colab import drive\n",
        "drive.mount('/content/drive')"
      ]
    },
    {
      "cell_type": "code",
      "execution_count": 4,
      "metadata": {
        "colab": {
          "base_uri": "https://localhost:8080/"
        },
        "id": "ygvxRfZXzstd",
        "outputId": "e97340d1-8393-45f3-fb74-5efcb367b021"
      },
      "outputs": [
        {
          "output_type": "stream",
          "name": "stdout",
          "text": [
            "/content/drive/MyDrive/Colab Notebooks\n"
          ]
        }
      ],
      "source": [
        "cd /content/drive/MyDrive/Colab Notebooks"
      ]
    },
    {
      "cell_type": "code",
      "execution_count": 5,
      "metadata": {
        "id": "-64mDRbJTd51"
      },
      "outputs": [],
      "source": [
        "import numpy as np\n",
        "import tensorflow\n",
        "from tensorflow.keras.datasets import mnist\n",
        "from tensorflow.keras.models import Sequential\n",
        "from tensorflow.keras import layers\n",
        "from tensorflow.keras.layers import Dense,Flatten\n",
        "from tensorflow.keras.layers import Conv2D\n",
        "from keras.optimizers import Adam\n",
        "from keras.utils import np_utils\n",
        "from flask import Flask, render_template, request, flash, redirect, url_for, send_from_directory\n",
        "from flask_ngrok import run_with_ngrok\n",
        "from PIL import Image\n",
        "import os\n",
        "from werkzeug.utils import secure_filename"
      ]
    },
    {
      "cell_type": "markdown",
      "metadata": {
        "id": "_CZYQ3iIWPgX"
      },
      "source": [
        "# Loading The Data"
      ]
    },
    {
      "cell_type": "code",
      "execution_count": 6,
      "metadata": {
        "id": "U96VCGQeWIMH"
      },
      "outputs": [],
      "source": [
        "(X_train,y_train),(X_test,y_test)=mnist.load_data()"
      ]
    },
    {
      "cell_type": "code",
      "execution_count": 7,
      "metadata": {
        "colab": {
          "base_uri": "https://localhost:8080/"
        },
        "id": "v34sZWEJWYvt",
        "outputId": "5b7c15c0-4a31-43bb-ec2b-8404c7446312"
      },
      "outputs": [
        {
          "output_type": "stream",
          "name": "stdout",
          "text": [
            "(60000, 28, 28)\n",
            "(10000, 28, 28)\n"
          ]
        }
      ],
      "source": [
        "print(X_train.shape)\n",
        "print(X_test.shape)"
      ]
    },
    {
      "cell_type": "markdown",
      "metadata": {
        "id": "71UjycpKWVYV"
      },
      "source": [
        "# Analyzing The Data"
      ]
    },
    {
      "cell_type": "code",
      "execution_count": 8,
      "metadata": {
        "colab": {
          "base_uri": "https://localhost:8080/"
        },
        "id": "ASChvZ7JWIKR",
        "outputId": "afd8a26d-952d-4166-9741-3721cc48741c"
      },
      "outputs": [
        {
          "output_type": "execute_result",
          "data": {
            "text/plain": [
              "array([[  0,   0,   0,   0,   0,   0,   0,   0,   0,   0,   0,   0,   0,\n",
              "          0,   0,   0,   0,   0,   0,   0,   0,   0,   0,   0,   0,   0,\n",
              "          0,   0],\n",
              "       [  0,   0,   0,   0,   0,   0,   0,   0,   0,   0,   0,   0,   0,\n",
              "          0,   0,   0,   0,   0,   0,   0,   0,   0,   0,   0,   0,   0,\n",
              "          0,   0],\n",
              "       [  0,   0,   0,   0,   0,   0,   0,   0,   0,   0,   0,   0,   0,\n",
              "          0,   0,   0,   0,   0,   0,   0,   0,   0,   0,   0,   0,   0,\n",
              "          0,   0],\n",
              "       [  0,   0,   0,   0,   0,   0,   0,   0,   0,   0,   0,   0,   0,\n",
              "          0,   0,   0,   0,   0,   0,   0,   0,   0,   0,   0,   0,   0,\n",
              "          0,   0],\n",
              "       [  0,   0,   0,   0,   0,   0,   0,   0,   0,   0,   0,   0,   0,\n",
              "          0,   0,   0,   0,   0,   0,   0,   0,   0,   0,   0,   0,   0,\n",
              "          0,   0],\n",
              "       [  0,   0,   0,   0,   0,   0,   0,   0,   0,   0,   0,   0,   3,\n",
              "         18,  18,  18, 126, 136, 175,  26, 166, 255, 247, 127,   0,   0,\n",
              "          0,   0],\n",
              "       [  0,   0,   0,   0,   0,   0,   0,   0,  30,  36,  94, 154, 170,\n",
              "        253, 253, 253, 253, 253, 225, 172, 253, 242, 195,  64,   0,   0,\n",
              "          0,   0],\n",
              "       [  0,   0,   0,   0,   0,   0,   0,  49, 238, 253, 253, 253, 253,\n",
              "        253, 253, 253, 253, 251,  93,  82,  82,  56,  39,   0,   0,   0,\n",
              "          0,   0],\n",
              "       [  0,   0,   0,   0,   0,   0,   0,  18, 219, 253, 253, 253, 253,\n",
              "        253, 198, 182, 247, 241,   0,   0,   0,   0,   0,   0,   0,   0,\n",
              "          0,   0],\n",
              "       [  0,   0,   0,   0,   0,   0,   0,   0,  80, 156, 107, 253, 253,\n",
              "        205,  11,   0,  43, 154,   0,   0,   0,   0,   0,   0,   0,   0,\n",
              "          0,   0],\n",
              "       [  0,   0,   0,   0,   0,   0,   0,   0,   0,  14,   1, 154, 253,\n",
              "         90,   0,   0,   0,   0,   0,   0,   0,   0,   0,   0,   0,   0,\n",
              "          0,   0],\n",
              "       [  0,   0,   0,   0,   0,   0,   0,   0,   0,   0,   0, 139, 253,\n",
              "        190,   2,   0,   0,   0,   0,   0,   0,   0,   0,   0,   0,   0,\n",
              "          0,   0],\n",
              "       [  0,   0,   0,   0,   0,   0,   0,   0,   0,   0,   0,  11, 190,\n",
              "        253,  70,   0,   0,   0,   0,   0,   0,   0,   0,   0,   0,   0,\n",
              "          0,   0],\n",
              "       [  0,   0,   0,   0,   0,   0,   0,   0,   0,   0,   0,   0,  35,\n",
              "        241, 225, 160, 108,   1,   0,   0,   0,   0,   0,   0,   0,   0,\n",
              "          0,   0],\n",
              "       [  0,   0,   0,   0,   0,   0,   0,   0,   0,   0,   0,   0,   0,\n",
              "         81, 240, 253, 253, 119,  25,   0,   0,   0,   0,   0,   0,   0,\n",
              "          0,   0],\n",
              "       [  0,   0,   0,   0,   0,   0,   0,   0,   0,   0,   0,   0,   0,\n",
              "          0,  45, 186, 253, 253, 150,  27,   0,   0,   0,   0,   0,   0,\n",
              "          0,   0],\n",
              "       [  0,   0,   0,   0,   0,   0,   0,   0,   0,   0,   0,   0,   0,\n",
              "          0,   0,  16,  93, 252, 253, 187,   0,   0,   0,   0,   0,   0,\n",
              "          0,   0],\n",
              "       [  0,   0,   0,   0,   0,   0,   0,   0,   0,   0,   0,   0,   0,\n",
              "          0,   0,   0,   0, 249, 253, 249,  64,   0,   0,   0,   0,   0,\n",
              "          0,   0],\n",
              "       [  0,   0,   0,   0,   0,   0,   0,   0,   0,   0,   0,   0,   0,\n",
              "          0,  46, 130, 183, 253, 253, 207,   2,   0,   0,   0,   0,   0,\n",
              "          0,   0],\n",
              "       [  0,   0,   0,   0,   0,   0,   0,   0,   0,   0,   0,   0,  39,\n",
              "        148, 229, 253, 253, 253, 250, 182,   0,   0,   0,   0,   0,   0,\n",
              "          0,   0],\n",
              "       [  0,   0,   0,   0,   0,   0,   0,   0,   0,   0,  24, 114, 221,\n",
              "        253, 253, 253, 253, 201,  78,   0,   0,   0,   0,   0,   0,   0,\n",
              "          0,   0],\n",
              "       [  0,   0,   0,   0,   0,   0,   0,   0,  23,  66, 213, 253, 253,\n",
              "        253, 253, 198,  81,   2,   0,   0,   0,   0,   0,   0,   0,   0,\n",
              "          0,   0],\n",
              "       [  0,   0,   0,   0,   0,   0,  18, 171, 219, 253, 253, 253, 253,\n",
              "        195,  80,   9,   0,   0,   0,   0,   0,   0,   0,   0,   0,   0,\n",
              "          0,   0],\n",
              "       [  0,   0,   0,   0,  55, 172, 226, 253, 253, 253, 253, 244, 133,\n",
              "         11,   0,   0,   0,   0,   0,   0,   0,   0,   0,   0,   0,   0,\n",
              "          0,   0],\n",
              "       [  0,   0,   0,   0, 136, 253, 253, 253, 212, 135, 132,  16,   0,\n",
              "          0,   0,   0,   0,   0,   0,   0,   0,   0,   0,   0,   0,   0,\n",
              "          0,   0],\n",
              "       [  0,   0,   0,   0,   0,   0,   0,   0,   0,   0,   0,   0,   0,\n",
              "          0,   0,   0,   0,   0,   0,   0,   0,   0,   0,   0,   0,   0,\n",
              "          0,   0],\n",
              "       [  0,   0,   0,   0,   0,   0,   0,   0,   0,   0,   0,   0,   0,\n",
              "          0,   0,   0,   0,   0,   0,   0,   0,   0,   0,   0,   0,   0,\n",
              "          0,   0],\n",
              "       [  0,   0,   0,   0,   0,   0,   0,   0,   0,   0,   0,   0,   0,\n",
              "          0,   0,   0,   0,   0,   0,   0,   0,   0,   0,   0,   0,   0,\n",
              "          0,   0]], dtype=uint8)"
            ]
          },
          "metadata": {},
          "execution_count": 8
        }
      ],
      "source": [
        "X_train[0]"
      ]
    },
    {
      "cell_type": "code",
      "execution_count": 9,
      "metadata": {
        "colab": {
          "base_uri": "https://localhost:8080/"
        },
        "id": "A2uo-jZUWIH_",
        "outputId": "47b4f346-447e-43ed-e4c4-486068fc00dc"
      },
      "outputs": [
        {
          "output_type": "execute_result",
          "data": {
            "text/plain": [
              "5"
            ]
          },
          "metadata": {},
          "execution_count": 9
        }
      ],
      "source": [
        "y_train[0]"
      ]
    },
    {
      "cell_type": "code",
      "execution_count": 10,
      "metadata": {
        "colab": {
          "base_uri": "https://localhost:8080/",
          "height": 283
        },
        "id": "GNANUG-FWIGP",
        "outputId": "ef1d8cc8-7c70-4ccf-de62-80f1cf5de725"
      },
      "outputs": [
        {
          "output_type": "execute_result",
          "data": {
            "text/plain": [
              "<matplotlib.image.AxesImage at 0x7fad15e07290>"
            ]
          },
          "metadata": {},
          "execution_count": 10
        },
        {
          "output_type": "display_data",
          "data": {
            "text/plain": [
              "<Figure size 432x288 with 1 Axes>"
            ],
            "image/png": "[encoded data removed]"
          },
          "metadata": {
            "needs_background": "light"
          }
        }
      ],
      "source": [
        "import matplotlib.pyplot as plt\n",
        "plt.imshow(X_train[0])"
      ]
    },
    {
      "cell_type": "markdown",
      "metadata": {
        "id": "RcNt6RbWWpen"
      },
      "source": [
        "# Reshaping The Data"
      ]
    },
    {
      "cell_type": "code",
      "execution_count": 11,
      "metadata": {
        "id": "QnteLkYSWIES"
      },
      "outputs": [],
      "source": [
        "X_train=X_train.reshape(60000,28,28,1).astype('float32')\n",
        "X_test=X_test.reshape(10000,28,28,1).astype('float32')"
      ]
    },
    {
      "cell_type": "markdown",
      "metadata": {
        "id": "Ew3A3oiOWvt3"
      },
      "source": [
        "# Applying One Hot Encoding"
      ]
    },
    {
      "cell_type": "code",
      "execution_count": 12,
      "metadata": {
        "id": "3vkn--fFWICM"
      },
      "outputs": [],
      "source": [
        "number_of_classes=10\n",
        "y_train=np_utils.to_categorical(y_train,number_of_classes)\n",
        "y_test=np_utils.to_categorical(y_test,number_of_classes)"
      ]
    },
    {
      "cell_type": "code",
      "execution_count": 13,
      "metadata": {
        "colab": {
          "base_uri": "https://localhost:8080/"
        },
        "id": "5Jt7jTx8WIAH",
        "outputId": "8042c3b3-c514-4bf1-ea17-7bad1bbf1c65"
      },
      "outputs": [
        {
          "output_type": "execute_result",
          "data": {
            "text/plain": [
              "array([0., 0., 0., 0., 0., 1., 0., 0., 0., 0.], dtype=float32)"
            ]
          },
          "metadata": {},
          "execution_count": 13
        }
      ],
      "source": [
        "y_train[0]"
      ]
    },
    {
      "cell_type": "markdown",
      "metadata": {
        "id": "JEoRT6KuW5fH"
      },
      "source": [
        "# Add CNN Layers"
      ]
    },
    {
      "cell_type": "code",
      "execution_count": 14,
      "metadata": {
        "id": "_t_Zxdt0WH-C"
      },
      "outputs": [],
      "source": [
        "model=Sequential()\n",
        "model.add(Conv2D(64,(3,3),input_shape=(28,28,1),activation='relu'))\n",
        "model.add(Conv2D(32,(3,3),activation='relu'))\n",
        "model.add(Flatten())\n",
        "model.add(Dense(number_of_classes,activation='softmax'))"
      ]
    },
    {
      "cell_type": "markdown",
      "metadata": {
        "id": "AEwGF9iUXF4X"
      },
      "source": [
        "# Compiling The Model"
      ]
    },
    {
      "cell_type": "code",
      "execution_count": 15,
      "metadata": {
        "id": "0knTNzthWH7_"
      },
      "outputs": [],
      "source": [
        "model.compile(loss='categorical_crossentropy',optimizer='Adam',metrics=['accuracy'])"
      ]
    },
    {
      "cell_type": "markdown",
      "metadata": {
        "id": "F7q-fYprXJwR"
      },
      "source": [
        "# Train The Model"
      ]
    },
    {
      "cell_type": "code",
      "execution_count": 16,
      "metadata": {
        "colab": {
          "base_uri": "https://localhost:8080/"
        },
        "id": "yl_Cwss3XIp8",
        "outputId": "afd36992-9169-450d-bb99-a98fb2d7e653"
      },
      "outputs": [
        {
          "output_type": "stream",
          "name": "stdout",
          "text": [
            "Epoch 1/5\n",
            "1875/1875 [==============================] - 222s 118ms/step - loss: 0.1997 - accuracy: 0.9516 - val_loss: 0.0892 - val_accuracy: 0.9725\n",
            "Epoch 2/5\n",
            "1875/1875 [==============================] - 195s 104ms/step - loss: 0.0663 - accuracy: 0.9797 - val_loss: 0.0691 - val_accuracy: 0.9778\n",
            "Epoch 3/5\n",
            "1875/1875 [==============================] - 194s 104ms/step - loss: 0.0465 - accuracy: 0.9846 - val_loss: 0.0966 - val_accuracy: 0.9749\n",
            "Epoch 4/5\n",
            "1875/1875 [==============================] - 193s 103ms/step - loss: 0.0345 - accuracy: 0.9888 - val_loss: 0.0904 - val_accuracy: 0.9764\n",
            "Epoch 5/5\n",
            "1875/1875 [==============================] - 192s 103ms/step - loss: 0.0267 - accuracy: 0.9915 - val_loss: 0.1002 - val_accuracy: 0.9771\n"
          ]
        },
        {
          "output_type": "execute_result",
          "data": {
            "text/plain": [
              "<keras.callbacks.History at 0x7fad15e88cd0>"
            ]
          },
          "metadata": {},
          "execution_count": 16
        }
      ],
      "source": [
        "model.fit(X_train,y_train,validation_data=(X_test,y_test),epochs=5,batch_size=32)"
      ]
    },
    {
      "cell_type": "markdown",
      "metadata": {
        "id": "5sOQvbMVXQR9"
      },
      "source": [
        "# Observing The Metrics"
      ]
    },
    {
      "cell_type": "code",
      "execution_count": 17,
      "metadata": {
        "colab": {
          "base_uri": "https://localhost:8080/"
        },
        "id": "REWnlp7-XInV",
        "outputId": "e2354bd3-4977-4f1e-cd72-e9cd9ff63882"
      },
      "outputs": [
        {
          "output_type": "stream",
          "name": "stdout",
          "text": [
            "Metrics(Test loss & Test Accuracy):\n",
            "[0.10019079595804214, 0.9771000146865845]\n"
          ]
        }
      ],
      "source": [
        "metrics=model.evaluate(X_test,y_test,verbose=0)\n",
        "print(\"Metrics(Test loss & Test Accuracy):\")\n",
        "print(metrics)"
      ]
    },
    {
      "cell_type": "markdown",
      "metadata": {
        "id": "efG1eH29XVJ1"
      },
      "source": [
        "# Test The Model"
      ]
    },
    {
      "cell_type": "code",
      "execution_count": 18,
      "metadata": {
        "colab": {
          "base_uri": "https://localhost:8080/"
        },
        "id": "8l-vgy-tXIkz",
        "outputId": "9ae3b6ac-ae90-4dd3-ecf1-8ca9d0f6a21f"
      },
      "outputs": [
        {
          "output_type": "stream",
          "name": "stdout",
          "text": [
            "1/1 [==============================] - 0s 85ms/step\n",
            "[[5.1875710e-14 1.7647444e-20 2.4055640e-12 1.4563986e-12 2.1019228e-20\n",
            "  1.6634652e-16 3.5972691e-21 1.0000000e+00 1.4734684e-11 1.5583846e-14]\n",
            " [9.5942568e-13 3.7856357e-17 1.0000000e+00 2.1415776e-16 1.0644013e-22\n",
            "  8.6420462e-22 1.1676075e-15 1.1404149e-25 1.0958316e-17 2.7012459e-23]\n",
            " [3.2205699e-07 9.9998903e-01 5.0970690e-09 5.3584123e-11 4.9161645e-06\n",
            "  1.8947194e-08 1.7707004e-08 1.1056708e-09 5.7614852e-06 3.9462039e-14]\n",
            " [1.0000000e+00 6.3664590e-23 1.0405597e-11 4.7540277e-19 4.1474681e-20\n",
            "  1.9294023e-17 3.7152743e-11 5.6668872e-19 8.6498515e-17 3.1193680e-15]]\n"
          ]
        }
      ],
      "source": [
        "prediction=model.predict(X_test[:4])\n",
        "print(prediction)"
      ]
    },
    {
      "cell_type": "code",
      "execution_count": 19,
      "metadata": {
        "colab": {
          "base_uri": "https://localhost:8080/"
        },
        "id": "RA5vzlfnXdN9",
        "outputId": "dcc574f6-cff7-422e-8a46-bf97763d089b"
      },
      "outputs": [
        {
          "output_type": "stream",
          "name": "stdout",
          "text": [
            "[7 2 1 0]\n",
            "[[0. 0. 0. 0. 0. 0. 0. 1. 0. 0.]\n",
            " [0. 0. 1. 0. 0. 0. 0. 0. 0. 0.]\n",
            " [0. 1. 0. 0. 0. 0. 0. 0. 0. 0.]\n",
            " [1. 0. 0. 0. 0. 0. 0. 0. 0. 0.]]\n"
          ]
        }
      ],
      "source": [
        "import numpy as np\n",
        "print(np.argmax(prediction,axis=1))\n",
        "print(y_test[:4])"
      ]
    },
    {
      "cell_type": "markdown",
      "metadata": {
        "id": "tc1tTNuuXaMN"
      },
      "source": [
        "# Observing The Metrics"
      ]
    },
    {
      "cell_type": "code",
      "execution_count": 20,
      "metadata": {
        "colab": {
          "base_uri": "https://localhost:8080/"
        },
        "id": "hK_GcSUoXIiV",
        "outputId": "2aead35f-73a4-44a8-c68f-646469740be1"
      },
      "outputs": [
        {
          "output_type": "stream",
          "name": "stdout",
          "text": [
            "Metrics(Test loss & Test Accuracy):\n",
            "[0.10019079595804214, 0.9771000146865845]\n"
          ]
        }
      ],
      "source": [
        "metrics=model.evaluate(X_test,y_test,verbose=0)\n",
        "print(\"Metrics(Test loss & Test Accuracy):\")\n",
        "print(metrics)"
      ]
    },
    {
      "cell_type": "markdown",
      "metadata": {
        "id": "theCpdM3Xlzt"
      },
      "source": [
        "# Test The Model"
      ]
    },
    {
      "cell_type": "code",
      "execution_count": 21,
      "metadata": {
        "colab": {
          "base_uri": "https://localhost:8080/"
        },
        "id": "MJiWNDAjXIfs",
        "outputId": "f462f02f-0dee-4582-b367-483327f48455"
      },
      "outputs": [
        {
          "output_type": "stream",
          "name": "stdout",
          "text": [
            "1/1 [==============================] - 0s 26ms/step\n",
            "[[5.1875710e-14 1.7647444e-20 2.4055640e-12 1.4563986e-12 2.1019228e-20\n",
            "  1.6634652e-16 3.5972691e-21 1.0000000e+00 1.4734684e-11 1.5583846e-14]\n",
            " [9.5942568e-13 3.7856357e-17 1.0000000e+00 2.1415776e-16 1.0644013e-22\n",
            "  8.6420462e-22 1.1676075e-15 1.1404149e-25 1.0958316e-17 2.7012459e-23]\n",
            " [3.2205699e-07 9.9998903e-01 5.0970690e-09 5.3584123e-11 4.9161645e-06\n",
            "  1.8947194e-08 1.7707004e-08 1.1056708e-09 5.7614852e-06 3.9462039e-14]\n",
            " [1.0000000e+00 6.3664590e-23 1.0405597e-11 4.7540277e-19 4.1474681e-20\n",
            "  1.9294023e-17 3.7152743e-11 5.6668872e-19 8.6498515e-17 3.1193680e-15]]\n"
          ]
        }
      ],
      "source": [
        "prediction=model.predict(X_test[:4])\n",
        "print(prediction)"
      ]
    },
    {
      "cell_type": "code",
      "execution_count": 22,
      "metadata": {
        "colab": {
          "base_uri": "https://localhost:8080/"
        },
        "id": "HSyda-sFXIde",
        "outputId": "9b179eb9-2193-4e60-d152-528ead9f25ce"
      },
      "outputs": [
        {
          "output_type": "stream",
          "name": "stdout",
          "text": [
            "[7 2 1 0]\n",
            "[[0. 0. 0. 0. 0. 0. 0. 1. 0. 0.]\n",
            " [0. 0. 1. 0. 0. 0. 0. 0. 0. 0.]\n",
            " [0. 1. 0. 0. 0. 0. 0. 0. 0. 0.]\n",
            " [1. 0. 0. 0. 0. 0. 0. 0. 0. 0.]]\n"
          ]
        }
      ],
      "source": [
        "import numpy as np\n",
        "print(np.argmax(prediction,axis=1))\n",
        "print(y_test[:4])"
      ]
    },
    {
      "cell_type": "markdown",
      "metadata": {
        "id": "IKOnv4EFXsSc"
      },
      "source": [
        "# Save The Model"
      ]
    },
    {
      "cell_type": "code",
      "execution_count": 23,
      "metadata": {
        "id": "MaiTP6GKXtQk"
      },
      "outputs": [],
      "source": [
        "model.save('models/mnistCNN.h5')"
      ]
    },
    {
      "cell_type": "markdown",
      "metadata": {
        "id": "EvtCYr7_Xx4F"
      },
      "source": [
        "# Test With Saved Model"
      ]
    },
    {
      "cell_type": "code",
      "execution_count": 24,
      "metadata": {
        "colab": {
          "base_uri": "https://localhost:8080/"
        },
        "id": "_Qit_U0oXtK7",
        "outputId": "7af9c4f6-fb54-4ac0-a9bb-d58cbbd6f421"
      },
      "outputs": [
        {
          "output_type": "stream",
          "name": "stdout",
          "text": [
            "1/1 [==============================] - 0s 56ms/step\n",
            "[[3.7777948e-21 2.1137608e-18 6.9862629e-17 1.0000000e+00 3.8744688e-22\n",
            "  4.5765199e-15 3.4451544e-23 3.7634199e-24 1.2246749e-14 1.5022834e-15]]\n",
            "1/1 [==============================] - 0s 19ms/step\n",
            "[[3.7777948e-21 2.1137608e-18 6.9862629e-17 1.0000000e+00 3.8744688e-22\n",
            "  4.5765199e-15 3.4451544e-23 3.7634199e-24 1.2246749e-14 1.5022834e-15]]\n",
            "1/1 [==============================] - 0s 18ms/step\n",
            "[[3.7777948e-21 2.1137608e-18 6.9862629e-17 1.0000000e+00 3.8744688e-22\n",
            "  4.5765199e-15 3.4451544e-23 3.7634199e-24 1.2246749e-14 1.5022834e-15]]\n",
            "1/1 [==============================] - 0s 18ms/step\n",
            "[[3.7777948e-21 2.1137608e-18 6.9862629e-17 1.0000000e+00 3.8744688e-22\n",
            "  4.5765199e-15 3.4451544e-23 3.7634199e-24 1.2246749e-14 1.5022834e-15]]\n"
          ]
        }
      ],
      "source": [
        "from tensorflow.keras.models import load_model\n",
        "model=load_model(r'models/mnistCNN.h5')\n",
        "from PIL import Image\n",
        "import numpy as np\n",
        "for index in range(4):\n",
        "    img=Image.open('models/sample.png').convert(\"L\")\n",
        "    img=img.resize((28,28))\n",
        "    im2arr=np.array(img)\n",
        "    im2arr=im2arr.reshape(1,28,28,1)\n",
        "    y_pred=model.predict(im2arr)\n",
        "    print(y_pred)"
      ]
    },
    {
      "cell_type": "code",
      "execution_count": null,
      "metadata": {
        "colab": {
          "base_uri": "https://localhost:8080/"
        },
        "id": "b2BfZALotv6D",
        "outputId": "a2c25658-35fe-4374-eb16-2c31e09d1f52"
      },
      "outputs": [
        {
          "output_type": "stream",
          "name": "stdout",
          "text": [
            " * Serving Flask app \"__main__\" (lazy loading)\n",
            " * Environment: production\n",
            "\u001b[31m   WARNING: This is a development server. Do not use it in a production deployment.\u001b[0m\n",
            "\u001b[2m   Use a production WSGI server instead.\u001b[0m\n",
            " * Debug mode: off\n"
          ]
        },
        {
          "output_type": "stream",
          "name": "stderr",
          "text": [
            "INFO:werkzeug: * Running on http://127.0.0.1:5000/ (Press CTRL+C to quit)\n"
          ]
        },
        {
          "output_type": "stream",
          "name": "stdout",
          "text": [
            " * Running on http://f922-35-230-25-125.ngrok.io\n",
            " * Traffic stats available on http://127.0.0.1:4040\n"
          ]
        },
        {
          "output_type": "stream",
          "name": "stderr",
          "text": [
            "INFO:werkzeug:127.0.0.1 - - [13/Nov/2022 15:14:54] \"\u001b[37mGET / HTTP/1.1\u001b[0m\" 200 -\n",
            "INFO:werkzeug:127.0.0.1 - - [13/Nov/2022 15:14:55] \"\u001b[37mGET /static/css/template.css HTTP/1.1\u001b[0m\" 200 -\n",
            "INFO:werkzeug:127.0.0.1 - - [13/Nov/2022 15:14:55] \"\u001b[33mGET /favicon.ico HTTP/1.1\u001b[0m\" 404 -\n",
            "INFO:werkzeug:127.0.0.1 - - [13/Nov/2022 15:14:56] \"\u001b[37mGET / HTTP/1.1\u001b[0m\" 200 -\n",
            "INFO:werkzeug:127.0.0.1 - - [13/Nov/2022 15:14:58] \"\u001b[37mGET /static/css/template.css HTTP/1.1\u001b[0m\" 200 -\n"
          ]
        },
        {
          "output_type": "stream",
          "name": "stdout",
          "text": [
            "1/1 [==============================] - 0s 23ms/step\n"
          ]
        },
        {
          "output_type": "stream",
          "name": "stderr",
          "text": [
            "INFO:werkzeug:127.0.0.1 - - [13/Nov/2022 15:15:05] \"\u001b[37mPOST / HTTP/1.1\u001b[0m\" 200 -\n",
            "INFO:werkzeug:127.0.0.1 - - [13/Nov/2022 15:15:05] \"\u001b[37mGET /static/uploads/sample.png HTTP/1.1\u001b[0m\" 200 -\n"
          ]
        }
      ],
      "source": [
        "ALLOWED_EXTENSIONS = {'png', 'jpg', 'jpeg'}\n",
        "\n",
        "app = Flask(__name__, template_folder='templates', static_folder='static')\n",
        "run_with_ngrok(app)\n",
        "\n",
        "def allowed_file(filename):\n",
        "    return '.' in filename and \\\n",
        "           filename.rsplit('.', 1)[1].lower() in ALLOWED_EXTENSIONS\n",
        "\n",
        "\n",
        "@app.route(\"/\", methods = ['GET', 'POST'])\n",
        "def index():\n",
        "  if request.method == 'POST':\n",
        "    file = request.files['file']\n",
        "    if 'file' not in request.files:\n",
        "            flash('No file part')\n",
        "            return redirect(request.url)\n",
        "    if file and allowed_file(file.filename):\n",
        "      UPLOAD_FOLDER = os.path.join('static', 'uploads')\n",
        "      app.config['UPLOAD_FOLDER'] = UPLOAD_FOLDER\n",
        "      \n",
        "      img_filename = secure_filename(file.filename)\n",
        "      file.save(os.path.join(app.config['UPLOAD_FOLDER'], img_filename))\n",
        "      uploaded_img_file_path = os.path.join(app.config['UPLOAD_FOLDER'], img_filename)\n",
        "      \n",
        "\n",
        "      img = Image.open(request.files['file'].stream).convert(\"L\")\n",
        "      img=img.resize((28,28))\n",
        "      im2arr=np.array(img)\n",
        "      im2arr=im2arr.reshape(1,28,28,1)\n",
        "      y_pred=model.predict(im2arr)\n",
        "      classes=np.argmax(y_pred,axis=1)\n",
        "  \n",
        "\n",
        "      return render_template('result.html', uploaded_img_file_path=uploaded_img_file_path, result=classes[0])\n",
        "  return render_template('index.html')\n",
        "\n",
        "\n",
        "app.run()"
      ]
    }
  ],
  "metadata": {
    "colab": {
      "collapsed_sections": [],
      "provenance": []
    },
    "kernelspec": {
      "display_name": "Python 3",
      "name": "python3"
    },
    "language_info": {
      "name": "python"
    }
  },
  "nbformat": 4,
  "nbformat_minor": 0
}